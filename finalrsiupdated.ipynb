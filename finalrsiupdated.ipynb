{
 "cells": [
  {
   "cell_type": "code",
   "execution_count": 26,
   "metadata": {},
   "outputs": [],
   "source": [
    "import pandas as pd\n",
    "import talib\n",
    "\n",
    "import numpy as np"
   ]
  },
  {
   "cell_type": "code",
   "execution_count": 27,
   "metadata": {},
   "outputs": [],
   "source": [
    " df = pd.read_csv('WMT.csv')\n",
    "    #Uncomment this and read the WMT csv file wherever its stored on your local device"
   ]
  },
  {
   "cell_type": "code",
   "execution_count": 28,
   "metadata": {},
   "outputs": [],
   "source": [
    "#This is where you will code up the technical indicators and add as columns in the original dataframe\n",
    "\n",
    "def rsi(dataset):\n",
    "    for i in range(6,26):\n",
    "        RSI = talib.RSI(dataset.Close, timeperiod=i)\n",
    "        srs = pd.Series(data=RSI)\n",
    "        srs = srs.rename('RSI' + str(i))\n",
    "        dataset=pd.concat([dataset,srs],axis=1)\n",
    "    return dataset\n",
    "    #code rsi 6 to 25\n",
    "    \n",
    "def cmo():\n",
    "    \n",
    "def williams():\n",
    "    \n",
    "def sma(): #code sma 6 to 30 \n",
    "    \n",
    "def wma():\n",
    "    \n",
    "def ppo():\n",
    "    \n",
    "def ema():\n",
    "    \n",
    "def roc():\n",
    "    \n",
    "def cmfi():\n",
    "\n",
    "def hma():\n",
    "    \n",
    "def dmi():\n",
    "    \n",
    "def tripleema():\n",
    "    \n",
    "def psi():\n",
    "    \n",
    "def cci():\n",
    "    \n"
   ]
  },
  {
   "cell_type": "code",
   "execution_count": null,
   "metadata": {},
   "outputs": [],
   "source": [
    "def label_data():"
   ]
  }
 ],
 "metadata": {
  "kernelspec": {
   "display_name": "Python 3",
   "language": "python",
   "name": "python3"
  },
  "language_info": {
   "codemirror_mode": {
    "name": "ipython",
    "version": 3
   },
   "file_extension": ".py",
   "mimetype": "text/x-python",
   "name": "python",
   "nbconvert_exporter": "python",
   "pygments_lexer": "ipython3",
   "version": "3.7.6"
  }
 },
 "nbformat": 4,
 "nbformat_minor": 4
}
